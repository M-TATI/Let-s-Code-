{
 "cells": [
  {
   "cell_type": "markdown",
   "id": "c00c89b3",
   "metadata": {},
   "source": [
    "# Let's Code: Lista 1"
   ]
  },
  {
   "cell_type": "markdown",
   "id": "ed175001",
   "metadata": {},
   "source": [
    "### 1) Faça um programa que peça um valor monetário e diminua-o em 15%. Seu programa deve imprimir a mensagem “O novo valor é [valor]”."
   ]
  },
  {
   "cell_type": "code",
   "execution_count": 27,
   "id": "65a8ff52",
   "metadata": {},
   "outputs": [
    {
     "name": "stdout",
     "output_type": "stream",
     "text": [
      "Insira um valor monetário: 100\n",
      "O novo valor é 85.0\n"
     ]
    }
   ],
   "source": [
    "value= float(input(\"Insira um valor monetário: \"))\n",
    "\n",
    "percent= value * 0.15\n",
    "new= value - percent\n",
    "\n",
    "print(\"O novo valor é\", new)"
   ]
  },
  {
   "cell_type": "markdown",
   "id": "56624468",
   "metadata": {},
   "source": [
    "### 2) Faça um programa que leia a validade das informações:\n",
    "\n",
    "* a. Idade: entre 0 e 150\n",
    "* b. Salário: maior que 0\n",
    "* c. Sexo: M, F ou Outro\n",
    "\n",
    "O programa deve imprimir uma mensagem de erro para cada informação inválida."
   ]
  },
  {
   "cell_type": "code",
   "execution_count": 47,
   "id": "22cb2491",
   "metadata": {},
   "outputs": [
    {
     "name": "stdout",
     "output_type": "stream",
     "text": [
      "Insira sua idade:25\n",
      "Insira seu salário:250\n",
      "Insira seu sexo (F, M ou Outro):outro\n",
      "Cadastro completo!\n"
     ]
    }
   ],
   "source": [
    "#versão 1:\n",
    "\n",
    "idade= int(input(\"Insira sua idade:\"))\n",
    "\n",
    "if idade > 0 and idade < 150:\n",
    "    pass\n",
    "else:\n",
    "    print(\"Informação inválida\")\n",
    "       \n",
    "salario = int(input(\"Insira seu salário:\"))\n",
    "\n",
    "if salario > 0:\n",
    "    pass\n",
    "else:\n",
    "    print(\"Informação inválida\")\n",
    "       \n",
    "    \n",
    "sexo= input(\"Insira seu sexo (F, M ou Outro):\")\n",
    "\n",
    "if sexo.upper() == 'M' or sexo.upper() == 'F' or sexo.capitalize() == 'Outro':\n",
    "    pass\n",
    "else:\n",
    "    print(\"Informação inválida\")\n",
    "\n",
    "print('Cadastro completo!')\n",
    "    "
   ]
  },
  {
   "cell_type": "code",
   "execution_count": 56,
   "id": "237645dc",
   "metadata": {},
   "outputs": [
    {
     "name": "stdout",
     "output_type": "stream",
     "text": [
      "Insira sua idade:200\n",
      "Informação inválida\n",
      "Insira sua idade:25\n",
      "Insira seu salário:-1\n",
      "Informação inválida\n",
      "Insira seu salário:50\n",
      "Insira seu sexo (F, M ou Outro):g\n",
      "Informação inválida\n",
      "Insira seu sexo (F, M ou Outro):F\n",
      "Cadastro completo!\n"
     ]
    }
   ],
   "source": [
    "#versão 2:\n",
    "\n",
    "while True:\n",
    "    idade= int(input(\"Insira sua idade:\"))\n",
    "\n",
    "    if idade > 0 and idade < 150:\n",
    "        break\n",
    "    print(\"Informação inválida\")\n",
    "       \n",
    "    \n",
    "while True:    \n",
    "    salario= int(input(\"Insira seu salário:\"))\n",
    "\n",
    "    if salario > 0:\n",
    "        break\n",
    "    print(\"Informação inválida\")\n",
    "        \n",
    "\n",
    "while True:\n",
    "    sexo= input(\"Insira seu sexo (F, M ou Outro):\")\n",
    "\n",
    "    if sexo.upper() == 'M' or sexo.upper() == 'F' or sexo.capitalize() == 'Outro':\n",
    "        break\n",
    "    print(\"Informação inválida\")\n",
    "        \n",
    "        \n",
    "print('Cadastro completo!')"
   ]
  },
  {
   "cell_type": "markdown",
   "id": "0b1afe03",
   "metadata": {},
   "source": [
    "### 3) Vamos fazer um programa para verificar quem é o assassino de um crime.\n",
    "\n",
    "Para descobrir o assassino, a polícia faz um pequeno questionário com 5\n",
    "perguntas onde a resposta só pode ser sim ou não:\n",
    "\n",
    "* a. Mora perto da vítima?\n",
    "* b. Já trabalhou com a vítima?\n",
    "* c. Telefonou para a vítima?\n",
    "* d. Esteve no local do crime?\n",
    "* e. Devia para a vítima?\n",
    "\n",
    "Cada resposta sim dá um ponto para o suspeito. A polícia considera que os suspeitos com 5 pontos são os assassinos, com 4 a 3 pontos são cúmplices e 2 pontos são apenas suspeitos, necessitando outras investigações. Valores iguais ou abaixo de 1 são liberados."
   ]
  },
  {
   "cell_type": "code",
   "execution_count": 41,
   "id": "f870d304",
   "metadata": {},
   "outputs": [
    {
     "name": "stdout",
     "output_type": "stream",
     "text": [
      "Responda às questões a seguir com S para sim e N para não \n",
      "\n",
      "Mora perto da vítima?s\n",
      "Já trabalhou com a vítima?s\n",
      "Telefonou para a vítima?s\n",
      "Esteve no local do crime?s\n",
      "Devia para a vítima?s\n",
      "5 : Esse é o assasino\n"
     ]
    }
   ],
   "source": [
    "print('Responda às questões a seguir com S para sim e N para não \\n' )\n",
    "\n",
    "\n",
    "count=0\n",
    "\n",
    "a= input('Mora perto da vítima?')\n",
    "if (a.upper()== 'S'):\n",
    "    tot=  count= count+1\n",
    "else:\n",
    "    pass\n",
    "\n",
    "b= input('Já trabalhou com a vítima?')\n",
    "if (b.upper()== 'S'):\n",
    "    tot= count= count+1\n",
    "else:\n",
    "    pass\n",
    "\n",
    "c= input('Telefonou para a vítima?')\n",
    "if (c.upper()== 'S'):\n",
    "    tot= count= count+1\n",
    "else:\n",
    "    pass\n",
    "\n",
    "d= input('Esteve no local do crime?')\n",
    "if (d.upper()== 'S'):\n",
    "    tot= count= count+1\n",
    "else:\n",
    "    pass\n",
    "\n",
    "e= input('Devia para a vítima?')\n",
    "if (e.upper()== 'S'):\n",
    "    tot= count= count+1\n",
    "else:\n",
    "    pass\n",
    "\n",
    "\n",
    "if tot== 5:\n",
    "    print(tot, ': Esse é o assasino')\n",
    "elif tot== 4 or tot== 3:\n",
    "    print(tot, ': Esse é um cúmplice')\n",
    "elif tot==2:\n",
    "    print(tot, ': Esse é um suspeito')\n",
    "else: \n",
    "    print(tot, ': Essa pessoa pode ser liberada')\n",
    "\n",
    "\n",
    "#O programa não funciona corretamente se o usuário digitar qualquer coisa diferente de 's' e 'n'. Para corrigir, basta fazer igual no exercício anterior onde o looping para quando a entrada é inválida."
   ]
  },
  {
   "cell_type": "markdown",
   "id": "3f0e622e",
   "metadata": {},
   "source": [
    "### 4) Faça um programa que imprima a tabuada do 9 (de 9*1 a 9*10) usando loops."
   ]
  },
  {
   "cell_type": "code",
   "execution_count": 60,
   "id": "19c838d8",
   "metadata": {},
   "outputs": [
    {
     "name": "stdout",
     "output_type": "stream",
     "text": [
      "9\n",
      "18\n",
      "27\n",
      "36\n",
      "45\n",
      "54\n",
      "63\n",
      "72\n",
      "81\n",
      "90\n"
     ]
    }
   ],
   "source": [
    "for a in range(1,11):\n",
    "    tabuada= 9*a\n",
    "    print(tabuada)\n",
    "    "
   ]
  }
 ],
 "metadata": {
  "kernelspec": {
   "display_name": "Python 3 (ipykernel)",
   "language": "python",
   "name": "python3"
  },
  "language_info": {
   "codemirror_mode": {
    "name": "ipython",
    "version": 3
   },
   "file_extension": ".py",
   "mimetype": "text/x-python",
   "name": "python",
   "nbconvert_exporter": "python",
   "pygments_lexer": "ipython3",
   "version": "3.9.7"
  }
 },
 "nbformat": 4,
 "nbformat_minor": 5
}
