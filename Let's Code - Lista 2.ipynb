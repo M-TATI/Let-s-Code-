{
 "cells": [
  {
   "cell_type": "markdown",
   "id": "496f4c24",
   "metadata": {},
   "source": [
    "# Let's Code: Lista 2"
   ]
  },
  {
   "cell_type": "markdown",
   "id": "a83043d9",
   "metadata": {},
   "source": [
    "### 1) Faça um programa que olhe todos os itens de uma lista e diga quantos deles são pares."
   ]
  },
  {
   "cell_type": "code",
   "execution_count": 2,
   "id": "0f7bbe85",
   "metadata": {},
   "outputs": [],
   "source": [
    "import random"
   ]
  },
  {
   "cell_type": "code",
   "execution_count": 15,
   "id": "06179278",
   "metadata": {},
   "outputs": [
    {
     "name": "stdout",
     "output_type": "stream",
     "text": [
      "[30, 4, 42, 79, 32, 93, 54, 70, 52, 15, 82, 35, 13, 88, 51]\n"
     ]
    }
   ],
   "source": [
    "my_list = random.sample(range(100), 15)\n",
    "print(my_list)"
   ]
  },
  {
   "cell_type": "code",
   "execution_count": 21,
   "id": "96a1a26f",
   "metadata": {},
   "outputs": [
    {
     "name": "stdout",
     "output_type": "stream",
     "text": [
      "Esse resultado está ruim\n",
      "1\n",
      "2\n",
      "3\n",
      "4\n",
      "5\n",
      "6\n",
      "7\n",
      "8\n",
      "9\n",
      "Essa é uma versão melhor:\n",
      "9\n"
     ]
    }
   ],
   "source": [
    "#versão 1: o output não está ideal apesar do programa fazer o que deveria\n",
    "print('Esse resultado está ruim')\n",
    "par= []\n",
    "for element in my_list:\n",
    "    if element%2==0:\n",
    "        par.append(element)\n",
    "        print(len(par))  \n",
    "\n",
    "\n",
    "#versão: bem melhor\n",
    "print('Essa é uma versão melhor:')\n",
    "pares = [num for num in my_list if num % 2 == 0] \n",
    "tot = len(pares) \n",
    "print(tot)"
   ]
  },
  {
   "cell_type": "markdown",
   "id": "84b3d8c9",
   "metadata": {},
   "source": [
    "### 2) Faça um programa que peça para o usuário digitar uma palavra e imprima cada letra em uma linha."
   ]
  },
  {
   "cell_type": "code",
   "execution_count": 83,
   "id": "47aa2981",
   "metadata": {},
   "outputs": [
    {
     "name": "stdout",
     "output_type": "stream",
     "text": [
      "Digite uma palavra: Abacaxi\n",
      "A\n",
      "b\n",
      "a\n",
      "c\n",
      "a\n",
      "x\n",
      "i\n"
     ]
    }
   ],
   "source": [
    "palavra= input('Digite uma palavra: ')\n",
    "\n",
    "for letra in palavra:\n",
    "    print(letra)"
   ]
  },
  {
   "cell_type": "markdown",
   "id": "e3f099c6",
   "metadata": {},
   "source": [
    "### 3) Faça uma função que recebe duas listas e retorna a soma item a item dessas listas.\n",
    "\n",
    "Exemplo: Se a função receber as listas [1,4,3] e [3,5,1], então a função deve retornar [1+3, 4+5, 3+1] = [4, 9, 4]."
   ]
  },
  {
   "cell_type": "code",
   "execution_count": 90,
   "id": "3baa27d4",
   "metadata": {},
   "outputs": [
    {
     "name": "stdout",
     "output_type": "stream",
     "text": [
      "[4, 9, 4]\n"
     ]
    }
   ],
   "source": [
    "def soma(list1, list2):\n",
    "    assert len(list1) == len(list2)\n",
    "    return print([list1_i + list2_i for list1_i, list2_i in zip (list1, list2)])\n",
    "\n",
    "#Exemplo\n",
    "soma([1,4,3],[3,5,1])"
   ]
  },
  {
   "cell_type": "markdown",
   "id": "2fff9561",
   "metadata": {},
   "source": [
    "### 4) Crie um dicionário cujas chaves são os meses do ano e os valores são a duração (em dias) de cada mês."
   ]
  },
  {
   "cell_type": "code",
   "execution_count": 94,
   "id": "37f28462",
   "metadata": {},
   "outputs": [
    {
     "name": "stdout",
     "output_type": "stream",
     "text": [
      "{'Janeiro': 31, 'Fevereiro': 29, 'Março': 31, 'Abril': 30, 'Maio': 31, 'Junho': 30, 'Julho': 31, 'Agosto': 31, 'Sete,bro': 30, 'Outubro': 31, 'Novembro': 30, 'Dezembro': 31}\n"
     ]
    }
   ],
   "source": [
    "dic_calendar= {'Janeiro': 31, 'Fevereiro': 29, 'Março': 31, 'Abril': 30, 'Maio': 31, 'Junho': 30, 'Julho':31, 'Agosto': 31, 'Sete,bro': 30, 'Outubro': 31, 'Novembro': 30, 'Dezembro': 31}\n",
    "print(dic_calendar)"
   ]
  },
  {
   "cell_type": "markdown",
   "id": "2d6599e9",
   "metadata": {},
   "source": [
    "### 5) Imprima as chaves seguidas dos seus valores para dicionário criado no exercício anterior.\n",
    "\n",
    "Exemplo:\n",
    "\n",
    "Janeiro - 31\n",
    "\n",
    "Fevereiro - 28\n",
    "\n",
    "Março - 31\n",
    "\n",
    "Etc...\n",
    "\n"
   ]
  },
  {
   "cell_type": "code",
   "execution_count": 111,
   "id": "acddec28",
   "metadata": {},
   "outputs": [
    {
     "name": "stdout",
     "output_type": "stream",
     "text": [
      "Janeiro - 31\n",
      "Fevereiro - 29\n",
      "Março - 31\n",
      "Abril - 30\n",
      "Maio - 31\n",
      "Junho - 30\n",
      "Julho - 31\n",
      "Agosto - 31\n",
      "Sete,bro - 30\n",
      "Outubro - 31\n",
      "Novembro - 30\n",
      "Dezembro - 31\n"
     ]
    }
   ],
   "source": [
    "for chave, valor in dic_calendar.items():\n",
    "    print(f\"{chave} - {valor}\")\n"
   ]
  }
 ],
 "metadata": {
  "kernelspec": {
   "display_name": "Python 3 (ipykernel)",
   "language": "python",
   "name": "python3"
  },
  "language_info": {
   "codemirror_mode": {
    "name": "ipython",
    "version": 3
   },
   "file_extension": ".py",
   "mimetype": "text/x-python",
   "name": "python",
   "nbconvert_exporter": "python",
   "pygments_lexer": "ipython3",
   "version": "3.9.7"
  }
 },
 "nbformat": 4,
 "nbformat_minor": 5
}
